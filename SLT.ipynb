{
  "cells": [
    {
      "cell_type": "markdown",
      "source": [
        "# SLR TRAINING"
      ],
      "metadata": {
        "id": "m0fJqKPiC-aB"
      }
    },
    {
      "cell_type": "code",
      "source": [
        "import numpy as np\n",
        "import os\n",
        "import tensorflow as tf\n",
        "from tensorflow.keras.models import Sequential\n",
        "from tensorflow.keras.layers import LSTM, Dense, Dropout, BatchNormalization, Bidirectional\n",
        "from tensorflow.keras.callbacks import TensorBoard, EarlyStopping, ModelCheckpoint, ReduceLROnPlateau\n",
        "from tensorflow.keras.regularizers import l2\n",
        "from sklearn.model_selection import train_test_split\n",
        "from sklearn.preprocessing import LabelBinarizer\n",
        "from google.colab import drive\n",
        "import matplotlib.pyplot as plt"
      ],
      "metadata": {
        "id": "SckPguzxDBy7"
      },
      "execution_count": 13,
      "outputs": []
    },
    {
      "cell_type": "code",
      "source": [
        "drive.mount('/content/drive')\n",
        "\n",
        "# Define Paths\n",
        "DATA_PATH = '/content/drive/MyDrive/Dataset'\n",
        "actions = np.array(['hello', 'thank_you', 'i_love_you', 'yes', 'no'])\n",
        "no_sequences = 50\n",
        "sequence_length = 30"
      ],
      "metadata": {
        "colab": {
          "base_uri": "https://localhost:8080/"
        },
        "id": "B1171pyiDJfb",
        "outputId": "6edfe6d2-5f9c-4fe1-926e-3288a82ec97c"
      },
      "execution_count": 2,
      "outputs": [
        {
          "output_type": "stream",
          "name": "stdout",
          "text": [
            "Mounted at /content/drive\n"
          ]
        }
      ]
    },
    {
      "cell_type": "code",
      "source": [
        "\n",
        "# Load and preprocess data\n",
        "label_map = {label: num for num, label in enumerate(actions)}\n",
        "sequences, labels = [], []\n",
        "\n",
        "for action in actions:\n",
        "    for sequence in range(1, no_sequences + 1):\n",
        "        window = []\n",
        "        for frame_num in range(sequence_length):\n",
        "            file_path = os.path.join(DATA_PATH, action, str(sequence), f\"{frame_num}.npy\")\n",
        "            if os.path.isfile(file_path):\n",
        "                res = np.load(file_path)\n",
        "                window.append(res)\n",
        "            else:\n",
        "                print(f\"Missing file: {file_path}\")\n",
        "                window.append(np.zeros((33 * 4 + 468 * 3 + 21 * 3 * 2,)))  # Add empty keypoints if file is missing\n",
        "        sequences.append(window)\n",
        "        labels.append(label_map[action])\n",
        "\n",
        "X = np.array(sequences)\n",
        "y = np.array(labels)\n"
      ],
      "metadata": {
        "colab": {
          "base_uri": "https://localhost:8080/"
        },
        "collapsed": true,
        "id": "BjCI36EIGcLQ",
        "outputId": "12d8ad99-7bd9-4526-e710-0cf2f705855f"
      },
      "execution_count": 25,
      "outputs": [
        {
          "output_type": "stream",
          "name": "stdout",
          "text": [
            "Missing file: /content/drive/MyDrive/Dataset/hello/50/0.npy\n",
            "Missing file: /content/drive/MyDrive/Dataset/hello/50/1.npy\n",
            "Missing file: /content/drive/MyDrive/Dataset/hello/50/2.npy\n",
            "Missing file: /content/drive/MyDrive/Dataset/hello/50/3.npy\n",
            "Missing file: /content/drive/MyDrive/Dataset/hello/50/4.npy\n",
            "Missing file: /content/drive/MyDrive/Dataset/hello/50/5.npy\n",
            "Missing file: /content/drive/MyDrive/Dataset/hello/50/6.npy\n",
            "Missing file: /content/drive/MyDrive/Dataset/hello/50/7.npy\n",
            "Missing file: /content/drive/MyDrive/Dataset/hello/50/8.npy\n",
            "Missing file: /content/drive/MyDrive/Dataset/hello/50/9.npy\n",
            "Missing file: /content/drive/MyDrive/Dataset/hello/50/10.npy\n",
            "Missing file: /content/drive/MyDrive/Dataset/hello/50/11.npy\n",
            "Missing file: /content/drive/MyDrive/Dataset/hello/50/12.npy\n",
            "Missing file: /content/drive/MyDrive/Dataset/hello/50/13.npy\n",
            "Missing file: /content/drive/MyDrive/Dataset/hello/50/14.npy\n",
            "Missing file: /content/drive/MyDrive/Dataset/hello/50/15.npy\n",
            "Missing file: /content/drive/MyDrive/Dataset/hello/50/16.npy\n",
            "Missing file: /content/drive/MyDrive/Dataset/hello/50/17.npy\n",
            "Missing file: /content/drive/MyDrive/Dataset/hello/50/18.npy\n",
            "Missing file: /content/drive/MyDrive/Dataset/hello/50/19.npy\n",
            "Missing file: /content/drive/MyDrive/Dataset/hello/50/20.npy\n",
            "Missing file: /content/drive/MyDrive/Dataset/hello/50/21.npy\n",
            "Missing file: /content/drive/MyDrive/Dataset/hello/50/22.npy\n",
            "Missing file: /content/drive/MyDrive/Dataset/hello/50/23.npy\n",
            "Missing file: /content/drive/MyDrive/Dataset/hello/50/24.npy\n",
            "Missing file: /content/drive/MyDrive/Dataset/hello/50/25.npy\n",
            "Missing file: /content/drive/MyDrive/Dataset/hello/50/26.npy\n",
            "Missing file: /content/drive/MyDrive/Dataset/hello/50/27.npy\n",
            "Missing file: /content/drive/MyDrive/Dataset/hello/50/28.npy\n",
            "Missing file: /content/drive/MyDrive/Dataset/hello/50/29.npy\n",
            "Missing file: /content/drive/MyDrive/Dataset/thank_you/50/0.npy\n",
            "Missing file: /content/drive/MyDrive/Dataset/thank_you/50/1.npy\n",
            "Missing file: /content/drive/MyDrive/Dataset/thank_you/50/2.npy\n",
            "Missing file: /content/drive/MyDrive/Dataset/thank_you/50/3.npy\n",
            "Missing file: /content/drive/MyDrive/Dataset/thank_you/50/4.npy\n",
            "Missing file: /content/drive/MyDrive/Dataset/thank_you/50/5.npy\n",
            "Missing file: /content/drive/MyDrive/Dataset/thank_you/50/6.npy\n",
            "Missing file: /content/drive/MyDrive/Dataset/thank_you/50/7.npy\n",
            "Missing file: /content/drive/MyDrive/Dataset/thank_you/50/8.npy\n",
            "Missing file: /content/drive/MyDrive/Dataset/thank_you/50/9.npy\n",
            "Missing file: /content/drive/MyDrive/Dataset/thank_you/50/10.npy\n",
            "Missing file: /content/drive/MyDrive/Dataset/thank_you/50/11.npy\n",
            "Missing file: /content/drive/MyDrive/Dataset/thank_you/50/12.npy\n",
            "Missing file: /content/drive/MyDrive/Dataset/thank_you/50/13.npy\n",
            "Missing file: /content/drive/MyDrive/Dataset/thank_you/50/14.npy\n",
            "Missing file: /content/drive/MyDrive/Dataset/thank_you/50/15.npy\n",
            "Missing file: /content/drive/MyDrive/Dataset/thank_you/50/16.npy\n",
            "Missing file: /content/drive/MyDrive/Dataset/thank_you/50/17.npy\n",
            "Missing file: /content/drive/MyDrive/Dataset/thank_you/50/18.npy\n",
            "Missing file: /content/drive/MyDrive/Dataset/thank_you/50/19.npy\n",
            "Missing file: /content/drive/MyDrive/Dataset/thank_you/50/20.npy\n",
            "Missing file: /content/drive/MyDrive/Dataset/thank_you/50/21.npy\n",
            "Missing file: /content/drive/MyDrive/Dataset/thank_you/50/22.npy\n",
            "Missing file: /content/drive/MyDrive/Dataset/thank_you/50/23.npy\n",
            "Missing file: /content/drive/MyDrive/Dataset/thank_you/50/24.npy\n",
            "Missing file: /content/drive/MyDrive/Dataset/thank_you/50/25.npy\n",
            "Missing file: /content/drive/MyDrive/Dataset/thank_you/50/26.npy\n",
            "Missing file: /content/drive/MyDrive/Dataset/thank_you/50/27.npy\n",
            "Missing file: /content/drive/MyDrive/Dataset/thank_you/50/28.npy\n",
            "Missing file: /content/drive/MyDrive/Dataset/thank_you/50/29.npy\n",
            "Missing file: /content/drive/MyDrive/Dataset/i_love_you/50/0.npy\n",
            "Missing file: /content/drive/MyDrive/Dataset/i_love_you/50/1.npy\n",
            "Missing file: /content/drive/MyDrive/Dataset/i_love_you/50/2.npy\n",
            "Missing file: /content/drive/MyDrive/Dataset/i_love_you/50/3.npy\n",
            "Missing file: /content/drive/MyDrive/Dataset/i_love_you/50/4.npy\n",
            "Missing file: /content/drive/MyDrive/Dataset/i_love_you/50/5.npy\n",
            "Missing file: /content/drive/MyDrive/Dataset/i_love_you/50/6.npy\n",
            "Missing file: /content/drive/MyDrive/Dataset/i_love_you/50/7.npy\n",
            "Missing file: /content/drive/MyDrive/Dataset/i_love_you/50/8.npy\n",
            "Missing file: /content/drive/MyDrive/Dataset/i_love_you/50/9.npy\n",
            "Missing file: /content/drive/MyDrive/Dataset/i_love_you/50/10.npy\n",
            "Missing file: /content/drive/MyDrive/Dataset/i_love_you/50/11.npy\n",
            "Missing file: /content/drive/MyDrive/Dataset/i_love_you/50/12.npy\n",
            "Missing file: /content/drive/MyDrive/Dataset/i_love_you/50/13.npy\n",
            "Missing file: /content/drive/MyDrive/Dataset/i_love_you/50/14.npy\n",
            "Missing file: /content/drive/MyDrive/Dataset/i_love_you/50/15.npy\n",
            "Missing file: /content/drive/MyDrive/Dataset/i_love_you/50/16.npy\n",
            "Missing file: /content/drive/MyDrive/Dataset/i_love_you/50/17.npy\n",
            "Missing file: /content/drive/MyDrive/Dataset/i_love_you/50/18.npy\n",
            "Missing file: /content/drive/MyDrive/Dataset/i_love_you/50/19.npy\n",
            "Missing file: /content/drive/MyDrive/Dataset/i_love_you/50/20.npy\n",
            "Missing file: /content/drive/MyDrive/Dataset/i_love_you/50/21.npy\n",
            "Missing file: /content/drive/MyDrive/Dataset/i_love_you/50/22.npy\n",
            "Missing file: /content/drive/MyDrive/Dataset/i_love_you/50/23.npy\n",
            "Missing file: /content/drive/MyDrive/Dataset/i_love_you/50/24.npy\n",
            "Missing file: /content/drive/MyDrive/Dataset/i_love_you/50/25.npy\n",
            "Missing file: /content/drive/MyDrive/Dataset/i_love_you/50/26.npy\n",
            "Missing file: /content/drive/MyDrive/Dataset/i_love_you/50/27.npy\n",
            "Missing file: /content/drive/MyDrive/Dataset/i_love_you/50/28.npy\n",
            "Missing file: /content/drive/MyDrive/Dataset/i_love_you/50/29.npy\n",
            "Missing file: /content/drive/MyDrive/Dataset/yes/50/0.npy\n",
            "Missing file: /content/drive/MyDrive/Dataset/yes/50/1.npy\n",
            "Missing file: /content/drive/MyDrive/Dataset/yes/50/2.npy\n",
            "Missing file: /content/drive/MyDrive/Dataset/yes/50/3.npy\n",
            "Missing file: /content/drive/MyDrive/Dataset/yes/50/4.npy\n",
            "Missing file: /content/drive/MyDrive/Dataset/yes/50/5.npy\n",
            "Missing file: /content/drive/MyDrive/Dataset/yes/50/6.npy\n",
            "Missing file: /content/drive/MyDrive/Dataset/yes/50/7.npy\n",
            "Missing file: /content/drive/MyDrive/Dataset/yes/50/8.npy\n",
            "Missing file: /content/drive/MyDrive/Dataset/yes/50/9.npy\n",
            "Missing file: /content/drive/MyDrive/Dataset/yes/50/10.npy\n",
            "Missing file: /content/drive/MyDrive/Dataset/yes/50/11.npy\n",
            "Missing file: /content/drive/MyDrive/Dataset/yes/50/12.npy\n",
            "Missing file: /content/drive/MyDrive/Dataset/yes/50/13.npy\n",
            "Missing file: /content/drive/MyDrive/Dataset/yes/50/14.npy\n",
            "Missing file: /content/drive/MyDrive/Dataset/yes/50/15.npy\n",
            "Missing file: /content/drive/MyDrive/Dataset/yes/50/16.npy\n",
            "Missing file: /content/drive/MyDrive/Dataset/yes/50/17.npy\n",
            "Missing file: /content/drive/MyDrive/Dataset/yes/50/18.npy\n",
            "Missing file: /content/drive/MyDrive/Dataset/yes/50/19.npy\n",
            "Missing file: /content/drive/MyDrive/Dataset/yes/50/20.npy\n",
            "Missing file: /content/drive/MyDrive/Dataset/yes/50/21.npy\n",
            "Missing file: /content/drive/MyDrive/Dataset/yes/50/22.npy\n",
            "Missing file: /content/drive/MyDrive/Dataset/yes/50/23.npy\n",
            "Missing file: /content/drive/MyDrive/Dataset/yes/50/24.npy\n",
            "Missing file: /content/drive/MyDrive/Dataset/yes/50/25.npy\n",
            "Missing file: /content/drive/MyDrive/Dataset/yes/50/26.npy\n",
            "Missing file: /content/drive/MyDrive/Dataset/yes/50/27.npy\n",
            "Missing file: /content/drive/MyDrive/Dataset/yes/50/28.npy\n",
            "Missing file: /content/drive/MyDrive/Dataset/yes/50/29.npy\n",
            "Missing file: /content/drive/MyDrive/Dataset/no/50/0.npy\n",
            "Missing file: /content/drive/MyDrive/Dataset/no/50/1.npy\n",
            "Missing file: /content/drive/MyDrive/Dataset/no/50/2.npy\n",
            "Missing file: /content/drive/MyDrive/Dataset/no/50/3.npy\n",
            "Missing file: /content/drive/MyDrive/Dataset/no/50/4.npy\n",
            "Missing file: /content/drive/MyDrive/Dataset/no/50/5.npy\n",
            "Missing file: /content/drive/MyDrive/Dataset/no/50/6.npy\n",
            "Missing file: /content/drive/MyDrive/Dataset/no/50/7.npy\n",
            "Missing file: /content/drive/MyDrive/Dataset/no/50/8.npy\n",
            "Missing file: /content/drive/MyDrive/Dataset/no/50/9.npy\n",
            "Missing file: /content/drive/MyDrive/Dataset/no/50/10.npy\n",
            "Missing file: /content/drive/MyDrive/Dataset/no/50/11.npy\n",
            "Missing file: /content/drive/MyDrive/Dataset/no/50/12.npy\n",
            "Missing file: /content/drive/MyDrive/Dataset/no/50/13.npy\n",
            "Missing file: /content/drive/MyDrive/Dataset/no/50/14.npy\n",
            "Missing file: /content/drive/MyDrive/Dataset/no/50/15.npy\n",
            "Missing file: /content/drive/MyDrive/Dataset/no/50/16.npy\n",
            "Missing file: /content/drive/MyDrive/Dataset/no/50/17.npy\n",
            "Missing file: /content/drive/MyDrive/Dataset/no/50/18.npy\n",
            "Missing file: /content/drive/MyDrive/Dataset/no/50/19.npy\n",
            "Missing file: /content/drive/MyDrive/Dataset/no/50/20.npy\n",
            "Missing file: /content/drive/MyDrive/Dataset/no/50/21.npy\n",
            "Missing file: /content/drive/MyDrive/Dataset/no/50/22.npy\n",
            "Missing file: /content/drive/MyDrive/Dataset/no/50/23.npy\n",
            "Missing file: /content/drive/MyDrive/Dataset/no/50/24.npy\n",
            "Missing file: /content/drive/MyDrive/Dataset/no/50/25.npy\n",
            "Missing file: /content/drive/MyDrive/Dataset/no/50/26.npy\n",
            "Missing file: /content/drive/MyDrive/Dataset/no/50/27.npy\n",
            "Missing file: /content/drive/MyDrive/Dataset/no/50/28.npy\n",
            "Missing file: /content/drive/MyDrive/Dataset/no/50/29.npy\n"
          ]
        }
      ]
    },
    {
      "cell_type": "code",
      "source": [
        "# Normalize the data\n",
        "X = np.array(sequences)\n",
        "X = X / np.max(X)  # Normalize the data\n",
        "\n",
        "y = np.array(labels)"
      ],
      "metadata": {
        "id": "Qgqzj7Aza2yM"
      },
      "execution_count": 26,
      "outputs": []
    },
    {
      "cell_type": "code",
      "source": [
        "# One-hot encoding of labels\n",
        "lb = LabelBinarizer()\n",
        "y = lb.fit_transform(y)\n",
        "if y.ndim == 1:\n",
        "    y = np.expand_dims(y, axis=-1)"
      ],
      "metadata": {
        "id": "GkdM8oVnGrnY"
      },
      "execution_count": 27,
      "outputs": []
    },
    {
      "cell_type": "code",
      "source": [
        "# Ensure y is 2D (samples, num_classes)\n",
        "if y.shape[1] == 1:\n",
        "    y = np.hstack((1 - y, y))"
      ],
      "metadata": {
        "id": "0uHVQPNBWdgf"
      },
      "execution_count": 28,
      "outputs": []
    },
    {
      "cell_type": "code",
      "source": [
        "# Train-test split\n",
        "X_train, X_test, y_train, y_test = train_test_split(X, y, test_size=0.2, random_state=42)\n"
      ],
      "metadata": {
        "id": "OpwbF8dXGr-o"
      },
      "execution_count": 29,
      "outputs": []
    },
    {
      "cell_type": "code",
      "source": [
        "# Data Augmentation\n",
        "augmented_data = []\n",
        "augmented_labels = []\n",
        "\n",
        "for i in range(len(X_train)):\n",
        "    augmented_data.append(X_train[i])\n",
        "    augmented_labels.append(y_train[i])\n",
        "    augmented_sequences = augment_data(X_train[i])\n",
        "    for seq in augmented_sequences:\n",
        "        augmented_data.append(seq)\n",
        "        augmented_labels.append(y_train[i])\n",
        "\n",
        "X_train = np.array(augmented_data)\n",
        "y_train = np.array(augmented_labels)"
      ],
      "metadata": {
        "id": "i0iGZgcAa-he"
      },
      "execution_count": 30,
      "outputs": []
    },
    {
      "cell_type": "code",
      "source": [
        "# Build the LSTM model\n",
        "model = Sequential()\n",
        "model.add(Bidirectional(LSTM(128, return_sequences=True, activation='relu', kernel_regularizer=l2(0.01)), input_shape=(sequence_length, X.shape[2])))\n",
        "model.add(BatchNormalization())\n",
        "model.add(Dropout(0.5))\n",
        "model.add(Bidirectional(LSTM(256, return_sequences=True, activation='relu', kernel_regularizer=l2(0.01))))\n",
        "model.add(BatchNormalization())\n",
        "model.add(Dropout(0.5))\n",
        "model.add(Bidirectional(LSTM(128, return_sequences=False, activation='relu', kernel_regularizer=l2(0.01))))\n",
        "model.add(BatchNormalization())\n",
        "model.add(Dropout(0.5))\n",
        "model.add(Dense(256, activation='relu', kernel_regularizer=l2(0.01)))\n",
        "model.add(Dropout(0.5))\n",
        "model.add(Dense(128, activation='relu', kernel_regularizer=l2(0.01)))\n",
        "model.add(Dropout(0.5))\n",
        "model.add(Dense(y.shape[1], activation='softmax'))\n",
        "\n",
        "# Compile the model with a modified learning rate\n",
        "model.compile(optimizer=tf.keras.optimizers.Adam(learning_rate=0.0001), loss='categorical_crossentropy', metrics=['categorical_accuracy'])\n"
      ],
      "metadata": {
        "colab": {
          "base_uri": "https://localhost:8080/"
        },
        "id": "00FxfuAbm6L-",
        "outputId": "c184c035-42c0-4452-fddf-6e13f6405c18",
        "collapsed": true
      },
      "execution_count": 72,
      "outputs": [
        {
          "output_type": "stream",
          "name": "stderr",
          "text": [
            "WARNING:tensorflow:Layer lstm_21 will not use cuDNN kernels since it doesn't meet the criteria. It will use a generic GPU kernel as fallback when running on GPU.\n",
            "WARNING:tensorflow:Layer lstm_21 will not use cuDNN kernels since it doesn't meet the criteria. It will use a generic GPU kernel as fallback when running on GPU.\n",
            "WARNING:tensorflow:Layer lstm_21 will not use cuDNN kernels since it doesn't meet the criteria. It will use a generic GPU kernel as fallback when running on GPU.\n",
            "WARNING:tensorflow:Layer lstm_22 will not use cuDNN kernels since it doesn't meet the criteria. It will use a generic GPU kernel as fallback when running on GPU.\n",
            "WARNING:tensorflow:Layer lstm_22 will not use cuDNN kernels since it doesn't meet the criteria. It will use a generic GPU kernel as fallback when running on GPU.\n",
            "WARNING:tensorflow:Layer lstm_22 will not use cuDNN kernels since it doesn't meet the criteria. It will use a generic GPU kernel as fallback when running on GPU.\n",
            "WARNING:tensorflow:Layer lstm_23 will not use cuDNN kernels since it doesn't meet the criteria. It will use a generic GPU kernel as fallback when running on GPU.\n",
            "WARNING:tensorflow:Layer lstm_23 will not use cuDNN kernels since it doesn't meet the criteria. It will use a generic GPU kernel as fallback when running on GPU.\n",
            "WARNING:tensorflow:Layer lstm_23 will not use cuDNN kernels since it doesn't meet the criteria. It will use a generic GPU kernel as fallback when running on GPU.\n"
          ]
        }
      ]
    },
    {
      "cell_type": "code",
      "source": [
        "# Early stopping and model checkpoint callbacks\n",
        "early_stopping = EarlyStopping(monitor='val_loss', patience=7, restore_best_weights=True)\n",
        "checkpoint = ModelCheckpoint('best_model.h5', monitor='val_loss', save_best_only=True, mode='min')\n",
        "reduce_lr = ReduceLROnPlateau(monitor='val_loss', factor=0.5, patience=10, min_lr=0.00001)\n"
      ],
      "metadata": {
        "id": "yzUw6xeyyBYZ"
      },
      "execution_count": 73,
      "outputs": []
    },
    {
      "cell_type": "code",
      "source": [
        "# Train the model\n",
        "log_dir = os.path.join('Logs')\n",
        "tb_callback = TensorBoard(log_dir=log_dir)\n",
        "\n",
        "history = model.fit(X_train, y_train, epochs=200, batch_size=64, callbacks=[tb_callback, early_stopping, checkpoint, reduce_lr], validation_data=(X_test, y_test))\n"
      ],
      "metadata": {
        "colab": {
          "base_uri": "https://localhost:8080/"
        },
        "id": "hG0wdhWPldY7",
        "outputId": "42d9be9b-4998-40a5-b516-4c243e6501cc",
        "collapsed": true
      },
      "execution_count": 80,
      "outputs": [
        {
          "output_type": "stream",
          "name": "stdout",
          "text": [
            "Epoch 1/200\n",
            "16/16 [==============================] - 3s 192ms/step - loss: 22.4623 - categorical_accuracy: 0.8390 - val_loss: 22.3260 - val_categorical_accuracy: 0.9200 - lr: 1.0000e-04\n",
            "Epoch 2/200\n",
            "16/16 [==============================] - 3s 183ms/step - loss: 22.3836 - categorical_accuracy: 0.8390 - val_loss: 22.2846 - val_categorical_accuracy: 0.8800 - lr: 1.0000e-04\n",
            "Epoch 3/200\n",
            "16/16 [==============================] - 3s 190ms/step - loss: 22.2937 - categorical_accuracy: 0.8720 - val_loss: 22.2246 - val_categorical_accuracy: 0.8800 - lr: 1.0000e-04\n",
            "Epoch 4/200\n",
            "16/16 [==============================] - 3s 183ms/step - loss: 22.2214 - categorical_accuracy: 0.8680 - val_loss: 22.1920 - val_categorical_accuracy: 0.8800 - lr: 1.0000e-04\n",
            "Epoch 5/200\n",
            "16/16 [==============================] - 3s 184ms/step - loss: 22.1990 - categorical_accuracy: 0.8500 - val_loss: 22.1692 - val_categorical_accuracy: 0.8800 - lr: 1.0000e-04\n",
            "Epoch 6/200\n",
            "16/16 [==============================] - 3s 188ms/step - loss: 22.1118 - categorical_accuracy: 0.8370 - val_loss: 22.0808 - val_categorical_accuracy: 0.9000 - lr: 1.0000e-04\n",
            "Epoch 7/200\n",
            "16/16 [==============================] - 3s 190ms/step - loss: 22.0258 - categorical_accuracy: 0.8730 - val_loss: 21.9987 - val_categorical_accuracy: 0.9000 - lr: 1.0000e-04\n",
            "Epoch 8/200\n",
            "16/16 [==============================] - 3s 184ms/step - loss: 21.9964 - categorical_accuracy: 0.8390 - val_loss: 21.9164 - val_categorical_accuracy: 0.9000 - lr: 1.0000e-04\n",
            "Epoch 9/200\n",
            "16/16 [==============================] - 3s 182ms/step - loss: 21.9220 - categorical_accuracy: 0.8510 - val_loss: 21.8625 - val_categorical_accuracy: 0.9000 - lr: 1.0000e-04\n",
            "Epoch 10/200\n",
            "16/16 [==============================] - 3s 184ms/step - loss: 21.8359 - categorical_accuracy: 0.8630 - val_loss: 21.8398 - val_categorical_accuracy: 0.9000 - lr: 1.0000e-04\n",
            "Epoch 11/200\n",
            "16/16 [==============================] - 3s 188ms/step - loss: 21.7890 - categorical_accuracy: 0.8510 - val_loss: 21.7311 - val_categorical_accuracy: 0.9000 - lr: 1.0000e-04\n",
            "Epoch 12/200\n",
            "16/16 [==============================] - 3s 181ms/step - loss: 21.7376 - categorical_accuracy: 0.8520 - val_loss: 21.7132 - val_categorical_accuracy: 0.9000 - lr: 1.0000e-04\n",
            "Epoch 13/200\n",
            "16/16 [==============================] - 3s 180ms/step - loss: 21.6480 - categorical_accuracy: 0.8600 - val_loss: 21.6730 - val_categorical_accuracy: 0.8800 - lr: 1.0000e-04\n",
            "Epoch 14/200\n",
            "16/16 [==============================] - 3s 183ms/step - loss: 21.6069 - categorical_accuracy: 0.8610 - val_loss: 21.6148 - val_categorical_accuracy: 0.8800 - lr: 1.0000e-04\n",
            "Epoch 15/200\n",
            "16/16 [==============================] - 3s 188ms/step - loss: 21.5325 - categorical_accuracy: 0.8770 - val_loss: 21.5201 - val_categorical_accuracy: 0.8800 - lr: 1.0000e-04\n",
            "Epoch 16/200\n",
            "16/16 [==============================] - 3s 182ms/step - loss: 21.4895 - categorical_accuracy: 0.8550 - val_loss: 21.4474 - val_categorical_accuracy: 0.8800 - lr: 1.0000e-04\n",
            "Epoch 17/200\n",
            "16/16 [==============================] - 3s 191ms/step - loss: 21.4191 - categorical_accuracy: 0.8600 - val_loss: 21.3971 - val_categorical_accuracy: 0.8800 - lr: 1.0000e-04\n",
            "Epoch 18/200\n",
            "16/16 [==============================] - 3s 184ms/step - loss: 21.3661 - categorical_accuracy: 0.8610 - val_loss: 21.3421 - val_categorical_accuracy: 0.8800 - lr: 1.0000e-04\n",
            "Epoch 19/200\n",
            "16/16 [==============================] - 3s 183ms/step - loss: 21.2805 - categorical_accuracy: 0.8680 - val_loss: 21.3245 - val_categorical_accuracy: 0.8800 - lr: 1.0000e-04\n",
            "Epoch 20/200\n",
            "16/16 [==============================] - 3s 187ms/step - loss: 21.2292 - categorical_accuracy: 0.8650 - val_loss: 21.2584 - val_categorical_accuracy: 0.8800 - lr: 1.0000e-04\n",
            "Epoch 21/200\n",
            "16/16 [==============================] - 3s 185ms/step - loss: 21.1724 - categorical_accuracy: 0.8560 - val_loss: 21.1619 - val_categorical_accuracy: 0.8800 - lr: 1.0000e-04\n",
            "Epoch 22/200\n",
            "16/16 [==============================] - 3s 187ms/step - loss: 21.1069 - categorical_accuracy: 0.8700 - val_loss: 21.1250 - val_categorical_accuracy: 0.8800 - lr: 1.0000e-04\n",
            "Epoch 23/200\n",
            "16/16 [==============================] - 3s 184ms/step - loss: 21.0445 - categorical_accuracy: 0.8740 - val_loss: 21.0537 - val_categorical_accuracy: 0.8800 - lr: 1.0000e-04\n",
            "Epoch 24/200\n",
            "16/16 [==============================] - 3s 193ms/step - loss: 21.0054 - categorical_accuracy: 0.8580 - val_loss: 20.9859 - val_categorical_accuracy: 0.8800 - lr: 1.0000e-04\n",
            "Epoch 25/200\n",
            "16/16 [==============================] - 3s 182ms/step - loss: 20.9090 - categorical_accuracy: 0.8780 - val_loss: 20.9590 - val_categorical_accuracy: 0.8800 - lr: 1.0000e-04\n",
            "Epoch 26/200\n",
            "16/16 [==============================] - 3s 181ms/step - loss: 20.8721 - categorical_accuracy: 0.8680 - val_loss: 20.8901 - val_categorical_accuracy: 0.8800 - lr: 1.0000e-04\n",
            "Epoch 27/200\n",
            "16/16 [==============================] - 3s 182ms/step - loss: 20.8199 - categorical_accuracy: 0.8810 - val_loss: 20.7855 - val_categorical_accuracy: 0.8800 - lr: 1.0000e-04\n",
            "Epoch 28/200\n",
            "16/16 [==============================] - 3s 190ms/step - loss: 20.7825 - categorical_accuracy: 0.8610 - val_loss: 20.7478 - val_categorical_accuracy: 0.8800 - lr: 1.0000e-04\n",
            "Epoch 29/200\n",
            "16/16 [==============================] - 3s 182ms/step - loss: 20.7161 - categorical_accuracy: 0.8700 - val_loss: 20.6212 - val_categorical_accuracy: 0.9000 - lr: 1.0000e-04\n",
            "Epoch 30/200\n",
            "16/16 [==============================] - 3s 169ms/step - loss: 20.6257 - categorical_accuracy: 0.8940 - val_loss: 20.6496 - val_categorical_accuracy: 0.8800 - lr: 1.0000e-04\n",
            "Epoch 31/200\n",
            "16/16 [==============================] - 3s 183ms/step - loss: 20.5696 - categorical_accuracy: 0.8790 - val_loss: 20.5393 - val_categorical_accuracy: 0.8800 - lr: 1.0000e-04\n",
            "Epoch 32/200\n",
            "16/16 [==============================] - 3s 178ms/step - loss: 20.5178 - categorical_accuracy: 0.8850 - val_loss: 20.5826 - val_categorical_accuracy: 0.8800 - lr: 1.0000e-04\n",
            "Epoch 33/200\n",
            "16/16 [==============================] - 3s 185ms/step - loss: 20.4409 - categorical_accuracy: 0.8920 - val_loss: 20.3489 - val_categorical_accuracy: 0.9400 - lr: 1.0000e-04\n",
            "Epoch 34/200\n",
            "16/16 [==============================] - 3s 168ms/step - loss: 20.4035 - categorical_accuracy: 0.8790 - val_loss: 20.9269 - val_categorical_accuracy: 0.8200 - lr: 1.0000e-04\n",
            "Epoch 35/200\n",
            "16/16 [==============================] - 3s 173ms/step - loss: 20.3755 - categorical_accuracy: 0.8610 - val_loss: 21.8035 - val_categorical_accuracy: 0.7600 - lr: 1.0000e-04\n",
            "Epoch 36/200\n",
            "16/16 [==============================] - 3s 176ms/step - loss: 20.3204 - categorical_accuracy: 0.8820 - val_loss: 22.0198 - val_categorical_accuracy: 0.7600 - lr: 1.0000e-04\n",
            "Epoch 37/200\n",
            "16/16 [==============================] - 3s 178ms/step - loss: 20.2549 - categorical_accuracy: 0.8670 - val_loss: 21.4374 - val_categorical_accuracy: 0.7600 - lr: 1.0000e-04\n",
            "Epoch 38/200\n",
            "16/16 [==============================] - 3s 171ms/step - loss: 20.2305 - categorical_accuracy: 0.8640 - val_loss: 24.4033 - val_categorical_accuracy: 0.7600 - lr: 1.0000e-04\n",
            "Epoch 39/200\n",
            "16/16 [==============================] - 3s 175ms/step - loss: 20.2766 - categorical_accuracy: 0.8290 - val_loss: 25.5073 - val_categorical_accuracy: 0.4200 - lr: 1.0000e-04\n",
            "Epoch 40/200\n",
            "16/16 [==============================] - 3s 168ms/step - loss: 20.3457 - categorical_accuracy: 0.7810 - val_loss: 22.6251 - val_categorical_accuracy: 0.2200 - lr: 1.0000e-04\n"
          ]
        }
      ]
    },
    {
      "cell_type": "code",
      "source": [
        "# Evaluate the model\n",
        "test_loss, test_acc = model.evaluate(X_test, y_test, verbose=2)\n",
        "print(f\"Test accuracy: {test_acc:.2f}\")"
      ],
      "metadata": {
        "colab": {
          "base_uri": "https://localhost:8080/"
        },
        "id": "u0ASvvCHG9Rd",
        "outputId": "03fb5284-6773-473d-a582-d6606251dcc7"
      },
      "execution_count": 81,
      "outputs": [
        {
          "output_type": "stream",
          "name": "stdout",
          "text": [
            "2/2 - 0s - loss: 20.3489 - categorical_accuracy: 0.9400 - 85ms/epoch - 42ms/step\n",
            "Test accuracy: 0.94\n"
          ]
        }
      ]
    },
    {
      "cell_type": "code",
      "source": [
        "# Plot training & validation accuracy values\n",
        "plt.plot(history.history['categorical_accuracy'])\n",
        "plt.plot(history.history['val_categorical_accuracy'])\n",
        "plt.title('Model accuracy')\n",
        "plt.ylabel('Accuracy')\n",
        "plt.xlabel('Epoch')\n",
        "plt.legend(['Train', 'Validation'], loc='upper left')\n",
        "plt.show()\n",
        "\n",
        "# Plot training & validation loss values\n",
        "plt.plot(history.history['loss'])\n",
        "plt.plot(history.history['val_loss'])\n",
        "plt.title('Model loss')\n",
        "plt.ylabel('Loss')\n",
        "plt.xlabel('Epoch')\n",
        "plt.legend(['Train', 'Validation'], loc='upper left')\n",
        "plt.show()"
      ],
      "metadata": {
        "colab": {
          "base_uri": "https://localhost:8080/",
          "height": 927
        },
        "id": "R-HTZerSKH0r",
        "outputId": "4214bb17-6447-41b3-b0d0-07e61b47bcc0"
      },
      "execution_count": 82,
      "outputs": [
        {
          "output_type": "display_data",
          "data": {
            "text/plain": [
              "<Figure size 640x480 with 1 Axes>"
            ],
            "image/png": "[encoded data removed]"
          },
          "metadata": {}
        },
        {
          "output_type": "display_data",
          "data": {
            "text/plain": [
              "<Figure size 640x480 with 1 Axes>"
            ],
            "image/png": "[encoded data removed]"
          },
          "metadata": {}
        }
      ]
    },
    {
      "cell_type": "code",
      "source": [
        "# Save the model\n",
        "model.save('sign_language_model.h5')"
      ],
      "metadata": {
        "id": "aUQ7oaQgJZj-"
      },
      "execution_count": null,
      "outputs": []
    }
  ],
  "metadata": {
    "colab": {
      "machine_shape": "hm",
      "provenance": [],
      "gpuType": "L4"
    },
    "kernelspec": {
      "display_name": "Python 3",
      "name": "python3"
    },
    "language_info": {
      "name": "python"
    },
    "accelerator": "GPU"
  },
  "nbformat": 4,
  "nbformat_minor": 0
}